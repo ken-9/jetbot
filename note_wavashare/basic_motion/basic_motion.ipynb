{
 "cells": [
  {
   "cell_type": "markdown",
   "metadata": {},
   "source": [
    "# Basic Motion\n",
    "\n",
    "Welcome to JetBot's browser based programming interface!  This document is\n",
    "called a *Jupyter Notebook*, which combines text, code, and graphic\n",
    "display all in one!  Prett neat, huh? If you're unfamiliar with *Jupyter* we suggest clicking the \n",
    "``Help`` drop down menu in the top toolbar.  This has useful references for\n",
    "programming with *Jupyter*. \n",
    "\n",
    "In this notebook, we'll cover the basics of controlling JetBot. \n",
    "\n",
    "### Importing the Robot class\n",
    "\n",
    "To get started programming JetBot, we'll need to import the ``Robot`` class.  This class\n",
    "allows us to easily control the robot's motors!  This is contained in the ``jetbot`` package.\n",
    "\n",
    "> If you're new to Python, a *package* is essentially a folder containing \n",
    "> code files.  These code files are called *modules*.\n",
    "\n",
    "To import the ``Robot`` class, highlight the cell below and press ``ctrl + enter`` or the ``play`` icon above.\n",
    "This will execute the code contained in the cell"
   ]
  },
  {
   "cell_type": "code",
   "execution_count": 1,
   "metadata": {},
   "outputs": [],
   "source": [
    "from jetbot import Robot  # モータ制御等に必要なクラスのインポート"
   ]
  },
  {
   "cell_type": "code",
   "execution_count": 2,
   "metadata": {},
   "outputs": [],
   "source": [
    "robot = Robot()  # Robotクラスのインスタンスの生成"
   ]
  },
  {
   "cell_type": "markdown",
   "metadata": {},
   "source": [
    "### Commanding the robot"
   ]
  },
  {
   "cell_type": "markdown",
   "metadata": {},
   "source": [
    "Now that we've created our ``Robot`` instance we named \"robot\", we can use this instance\n",
    "to control the robot.  To make the robot spin counterclockwise at 30% of it's max speed\n",
    "we can call the following\n",
    "\n",
    "> WARNING:  This next command will make the robot move!  Please make sure the robot has clearance."
   ]
  },
  {
   "cell_type": "code",
   "execution_count": 3,
   "metadata": {},
   "outputs": [],
   "source": [
    "robot.left(speed=0.3)  # 左タイヤを少しだけ動かす"
   ]
  },
  {
   "cell_type": "markdown",
   "metadata": {},
   "source": [
    "Cool, you should see the robot spin counterclockwise!\n",
    "\n",
    "> If your robot didn't turn left, that means one of the motors is wired backwards!  Try powering down your\n",
    "> robot and swapping the terminals that the ``red`` and ``black`` cables of the incorrect motor.\n",
    "> \n",
    "> REMINDER: Always be careful to check your wiring, and don't change the wiring on a running system!\n",
    "\n",
    "Now, to stop the robot you can call the ``stop`` method."
   ]
  },
  {
   "cell_type": "code",
   "execution_count": 4,
   "metadata": {},
   "outputs": [],
   "source": [
    "robot.stop()  # ロボットの動きを止める"
   ]
  },
  {
   "cell_type": "markdown",
   "metadata": {},
   "source": [
    "Maybe we only want to run the robot for a set period of time.  For that, we can use the Python ``time`` package.  "
   ]
  },
  {
   "cell_type": "code",
   "execution_count": 5,
   "metadata": {},
   "outputs": [],
   "source": [
    "import time  # タイマーを使うためのインポート"
   ]
  },
  {
   "cell_type": "markdown",
   "metadata": {},
   "source": [
    "This package defines the ``sleep`` function, which causes the code execution to block for the specified number of seconds\n",
    "before running the next command.  Try the following to make the robot turn left only for half a second."
   ]
  },
  {
   "cell_type": "code",
   "execution_count": 6,
   "metadata": {},
   "outputs": [],
   "source": [
    "robot.left(0.3)  # 左タイヤを少し動かす\n",
    "time.sleep(0.5)  # 0.5秒経ったら\n",
    "robot.stop()     # 止める"
   ]
  },
  {
   "cell_type": "markdown",
   "metadata": {},
   "source": [
    "Great.  You should see the robot turn left for a bit and then stop.\n",
    "\n",
    "> Wondering what happened to the ``speed=`` inside the ``left`` method?  Python allows \n",
    "> us to set function parameters by either their name, or the order that they are defined\n",
    "> (without specifying the name).\n",
    "\n",
    "The ``BasicJetbot`` class also has the methods ``right``, ``forward``, and ``backwards``.  Try creating your own cell to make\n",
    "the robot move forward at 50% speed for one second.\n",
    "\n",
    "Create a new cell by highlighting an existing cell and pressing ``b`` or the ``+`` icon above.  Once you've done that, type in the code that you think will make the robot move forward at 50% speed for one second."
   ]
  },
  {
   "cell_type": "markdown",
   "metadata": {},
   "source": [
    "### Controlling motors individually\n",
    "\n",
    "Above we saw how we can control the robot using commands like ``left``, ``right``, etc.  But what if we want to set each motor speed \n",
    "individually?  Well, there are two ways you can do this\n",
    "\n",
    "The first way is to call the ``set_motors`` method.  For example, to turn along a left arch for a second we could set the left motor to 30% and the right motor to 60% like follows.  \n",
    "\n",
    "右周りに動かす"
   ]
  },
  {
   "cell_type": "code",
   "execution_count": 7,
   "metadata": {},
   "outputs": [],
   "source": [
    "robot.set_motors(0.3, 0.6)  # 左タイヤ=0.3, 右タイヤ=0.6で動かす\n",
    "time.sleep(1.0)             # 1秒継続\n",
    "robot.stop()                # 止める"
   ]
  },
  {
   "cell_type": "markdown",
   "metadata": {},
   "source": [
    "Great!  You should see the robot move along a left arch.  But actually, there's another way that we could accomplish the same thing.\n",
    "\n",
    "The ``Robot`` class has two attributes named ``left_motor`` and ``right_motor`` that represent each motor individually.\n",
    "These attributes are ``Motor`` class instances, each which contains a ``value`` attribute.  This ``value`` attribute\n",
    "is a [traitlet](https://github.com/ipython/traitlets) which generates ``events`` when assigned a new value.  In the motor\n",
    "class, we attach a function that updates the motor commands whenever the value changes.\n",
    "\n",
    "So, to accomplish the exact same thing we did above, we could execute the following.  \n",
    "上のものとは別の方法"
   ]
  },
  {
   "cell_type": "code",
   "execution_count": 8,
   "metadata": {},
   "outputs": [],
   "source": [
    "# 各モーター値を個別に設定できる\n",
    "robot.left_motor.value = 0.3   # 左タイヤのスピード=0.3\n",
    "robot.right_motor.value = 0.6  # 右タイヤのスピード=0.6\n",
    "time.sleep(1.0)                # 1秒継続\n",
    "robot.left_motor.value = 0.0   # 左タイヤを止める\n",
    "robot.right_motor.value = 0.0  # 右タイヤを止める"
   ]
  },
  {
   "cell_type": "markdown",
   "metadata": {},
   "source": [
    "### Link motors to traitlets"
   ]
  },
  {
   "cell_type": "markdown",
   "metadata": {},
   "source": [
    "A really cool feature about these [traitlets](https://github.com/ipython/traitlets) is that we can \n",
    "also link them to other traitlets!  This is super handy because Jupyter Notebooks allow us\n",
    "to make graphical ``widgets`` that use traitlets under the hood.  This means we can attach\n",
    "our motors to ``widgets`` to control them from the browser, or just visualize the value.\n",
    "\n",
    "To show how to do this, let's create and display two sliders that we'll use to control our motors.  \n",
    "jupyteralab上からロボットの動きを制御できる"
   ]
  },
  {
   "cell_type": "code",
   "execution_count": 9,
   "metadata": {},
   "outputs": [
    {
     "data": {
      "application/vnd.jupyter.widget-view+json": {
       "model_id": "b00dcd818f3e460598f7f581a7fa6f3b",
       "version_major": 2,
       "version_minor": 0
      },
      "text/plain": [
       "HBox(children=(FloatSlider(value=0.0, description='left', max=1.0, min=-1.0, orientation='vertical', step=0.01…"
      ]
     },
     "metadata": {},
     "output_type": "display_data"
    }
   ],
   "source": [
    "import ipywidgets.widgets as widgets\n",
    "from IPython.display import display\n",
    "\n",
    "# 左右のタイヤ速度を制御するバーの生成, 値の範囲は -1.0~1.0\n",
    "left_slider = widgets.FloatSlider(description='left', min=-1.0, max=1.0, step=0.01, orientation='vertical')\n",
    "right_slider = widgets.FloatSlider(description='right', min=-1.0, max=1.0, step=0.01, orientation='vertical')\n",
    "\n",
    "# create a horizontal box container to place the sliders next to eachother\n",
    "slider_container = widgets.HBox([left_slider, right_slider])\n",
    "\n",
    "# 画面に表示\n",
    "display(slider_container)"
   ]
  },
  {
   "cell_type": "markdown",
   "metadata": {},
   "source": [
    "You should see two ``vertical`` sliders displayed above. \n",
    "\n",
    "> HELPFUL TIP:  In Jupyter Lab, you can actually \"pop\" the output of cells into entirely separate window!  It will still be \n",
    "> connected to the notebook, but displayed separately.  This is helpful if we want to pin the output of code we executed elsewhere.\n",
    "> To do this, right click the output of the cell and select ``Create New View for Output``.  You can then drag the new window\n",
    "> to a location you find pleasing.\n",
    "\n",
    "Try clicking and dragging the sliders up and down.  Notice nothing happens when we move the sliders currently.  That's because we haven't connected them to motors yet!  We'll do that by using the ``link`` function from the traitlets package.  \n",
    "バーの動きとモーターを関連付けていないため、この時点ではバーを動かしても何も起きない"
   ]
  },
  {
   "cell_type": "code",
   "execution_count": 10,
   "metadata": {},
   "outputs": [],
   "source": [
    "import traitlets\n",
    "# バーの動きとモーターを関連づける\n",
    "left_link = traitlets.link((left_slider, 'value'), (robot.left_motor, 'value'))\n",
    "right_link = traitlets.link((right_slider, 'value'), (robot.right_motor, 'value'))"
   ]
  },
  {
   "cell_type": "markdown",
   "metadata": {},
   "source": [
    "Now try dragging the sliders (slowly at first).  You should see the respective motor turn!\n",
    "\n",
    "The ``link`` function that we created above actually creates a bi-directional link!  That means,\n",
    "if we set the motor values elsewhere, the sliders will update!  Try executing the code block below"
   ]
  },
  {
   "cell_type": "code",
   "execution_count": 11,
   "metadata": {},
   "outputs": [],
   "source": [
    "# モーターの動きに合わせてバー側も動く\n",
    "robot.forward(0.3)\n",
    "time.sleep(1.0)\n",
    "robot.stop()"
   ]
  },
  {
   "cell_type": "markdown",
   "metadata": {},
   "source": [
    "You should see the sliders respond to the motor commands!  If we want to remove this connection we can call the\n",
    "``unlink`` method of each link."
   ]
  },
  {
   "cell_type": "code",
   "execution_count": 12,
   "metadata": {},
   "outputs": [],
   "source": [
    "# バーの動きとモーターの関連付けの削除\n",
    "left_link.unlink()\n",
    "right_link.unlink()"
   ]
  },
  {
   "cell_type": "markdown",
   "metadata": {},
   "source": [
    "But what if we don't want a *bi-directional* link, let's say we only want to use the sliders to display the motor values,\n",
    "but not control them.  For that we can use the ``dlink`` function.  The left input is the ``source`` and the right input is the ``target``"
   ]
  },
  {
   "cell_type": "code",
   "execution_count": 13,
   "metadata": {},
   "outputs": [],
   "source": [
    "# モーターの動きに合わせてバー側を動かしたくない場合 (単方向リンクにしたい場合)\n",
    "left_link = traitlets.dlink((robot.left_motor, 'value'), (left_slider, 'value'))\n",
    "right_link = traitlets.dlink((robot.right_motor, 'value'), (right_slider, 'value'))"
   ]
  },
  {
   "cell_type": "markdown",
   "metadata": {},
   "source": [
    "### Attach functions to events"
   ]
  },
  {
   "cell_type": "markdown",
   "metadata": {},
   "source": [
    "Another way to use traitlets, is by attaching functions (like ``forward``) to events.  These\n",
    "functions will get called whenever a change to the object occurs, and will be passed some information about that change\n",
    "like the ``old`` value and the ``new`` value.  \n",
    "\n",
    "Let's create and display some buttons that we'll use to control the robot."
   ]
  },
  {
   "cell_type": "code",
   "execution_count": 19,
   "metadata": {},
   "outputs": [
    {
     "data": {
      "application/vnd.jupyter.widget-view+json": {
       "model_id": "981f5669d3e34ba38f7d738a1fead00f",
       "version_major": 2,
       "version_minor": 0
      },
      "text/plain": [
       "VBox(children=(Button(description='forward', layout=Layout(align_self='center', height='80px', width='100px'),…"
      ]
     },
     "metadata": {},
     "output_type": "display_data"
    }
   ],
   "source": [
    "# ボタンの生成\n",
    "\n",
    "# ボタンの外観の設定 [横100px, 高さ80px, 文字配置は中央]\n",
    "button_layout = widgets.Layout(width='100px', height='80px', align_self='center')\n",
    "\n",
    "# 各ボタンの設定\n",
    "stop_button = widgets.Button(description='stop', button_style='danger', layout=button_layout)\n",
    "forward_button = widgets.Button(description='forward', layout=button_layout)\n",
    "backward_button = widgets.Button(description='backward', layout=button_layout)\n",
    "left_button = widgets.Button(description='left', layout=button_layout)\n",
    "right_button = widgets.Button(description='right', layout=button_layout)\n",
    "\n",
    "# ボタンを配置. 最初に,left/stop/right ボタンを横並びに配置.\n",
    "# そして、leftg/stop/rightをmiddle_boxとしてひとまとまりにし, middle_boxの中央にforward/backwardを縦に配置. \n",
    "middle_box = widgets.HBox([left_button, stop_button, right_button], layout=widgets.Layout(align_self='center'))  # 横方向の配置\n",
    "controls_box = widgets.VBox([forward_button, middle_box, backward_button])  # 縦方向の配置\n",
    "\n",
    "display(controls_box) # 画面に描画. display(<表示させたいオブジェクト>)"
   ]
  },
  {
   "cell_type": "markdown",
   "metadata": {},
   "source": [
    "You should see a set of robot controls displayed above!  But right now they wont do anything.  To do that\n",
    "we'll need to create some functions that we'll attach to the button's ``on_click`` event.  "
   ]
  },
  {
   "cell_type": "code",
   "execution_count": 20,
   "metadata": {},
   "outputs": [],
   "source": [
    "# 各ボタンが押された時の動作を関数として設定\n",
    "\n",
    "def stop(change):  # 停止\n",
    "    robot.stop()\n",
    "    \n",
    "def step_forward(change):   # 前進\n",
    "    robot.forward(0.4)\n",
    "    time.sleep(0.5)\n",
    "    robot.stop()\n",
    "\n",
    "def step_backward(change):  # 後退\n",
    "    robot.backward(0.4)\n",
    "    time.sleep(0.5)\n",
    "    robot.stop()\n",
    "\n",
    "def step_left(change):   # 右回転\n",
    "    robot.left(0.3)\n",
    "    time.sleep(0.25)\n",
    "    robot.stop()\n",
    "\n",
    "def step_right(change):  # 左回転\n",
    "    robot.right(0.3)\n",
    "    time.sleep(0.25)\n",
    "    robot.stop()"
   ]
  },
  {
   "cell_type": "code",
   "execution_count": 21,
   "metadata": {},
   "outputs": [],
   "source": [
    "# 上で定義した関数と、ボタンクリックを紐づけ\n",
    "\n",
    "# <ボタン名>.on_click(<上で定義した関数名>)\n",
    "stop_button.on_click(stop)\n",
    "forward_button.on_click(step_forward)\n",
    "backward_button.on_click(step_backward)\n",
    "left_button.on_click(step_left)\n",
    "right_button.on_click(step_right)"
   ]
  },
  {
   "cell_type": "markdown",
   "metadata": {},
   "source": [
    "Now when you click each button, you should see the robot move!"
   ]
  },
  {
   "cell_type": "markdown",
   "metadata": {},
   "source": [
    "### Heartbeat Killswitch\n",
    "\n",
    "Here we show how to connect a 'heartbeat' to stop the robot from moving.  This is a simple way to detect if the robot connection is alive.  You can lower the slider below to reduce the period (in seconds) of the heartbeat.  If a round-trip communication between broswer cannot be made within two heartbeats, the '`status`' attribute of the heartbeat will be set ``dead``.  As soon as the connection is restored, the ``status`` attribute will return to ``alive``."
   ]
  },
  {
   "cell_type": "code",
   "execution_count": 19,
   "metadata": {
    "collapsed": true,
    "jupyter": {
     "outputs_hidden": true,
     "source_hidden": true
    }
   },
   "outputs": [
    {
     "data": {
      "application/vnd.jupyter.widget-view+json": {
       "model_id": "0b9f412e953b4d59a5e978da433d5674",
       "version_major": 2,
       "version_minor": 0
      },
      "text/plain": [
       "FloatSlider(value=0.5, description='period', max=0.5, min=0.001, step=0.01)"
      ]
     },
     "metadata": {},
     "output_type": "display_data"
    },
    {
     "data": {
      "application/vnd.jupyter.widget-view+json": {
       "model_id": "f52d8f7f4aba40239c2b0aa678f5094f",
       "version_major": 2,
       "version_minor": 0
      },
      "text/plain": [
       "FloatText(value=1651034264.932191)"
      ]
     },
     "metadata": {},
     "output_type": "display_data"
    }
   ],
   "source": [
    "from jetbot import Heartbeat\n",
    "\n",
    "heartbeat = Heartbeat()\n",
    "\n",
    "# this function will be called when heartbeat 'alive' status changes\n",
    "def handle_heartbeat_status(change):\n",
    "    if change['new'] == Heartbeat.Status.dead:\n",
    "        robot.stop()\n",
    "        \n",
    "heartbeat.observe(handle_heartbeat_status, names='status')\n",
    "\n",
    "period_slider = widgets.FloatSlider(description='period', min=0.001, max=0.5, step=0.01, value=0.5)\n",
    "traitlets.dlink((period_slider, 'value'), (heartbeat, 'period'))\n",
    "\n",
    "display(period_slider, heartbeat.pulseout)"
   ]
  },
  {
   "cell_type": "markdown",
   "metadata": {
    "jupyter": {
     "source_hidden": true
    }
   },
   "source": [
    "Try executing the code below to start the motors, and then lower the slider to see what happens.  You can also try disconnecting your robot or PC."
   ]
  },
  {
   "cell_type": "code",
   "execution_count": 22,
   "metadata": {
    "jupyter": {
     "source_hidden": true
    }
   },
   "outputs": [],
   "source": [
    "robot.left(0.2) \n",
    "\n",
    "# now lower the `period` slider above until the network heartbeat can't be satisfied"
   ]
  }
 ],
 "metadata": {
  "kernelspec": {
   "display_name": "Python 3",
   "language": "python",
   "name": "python3"
  },
  "language_info": {
   "codemirror_mode": {
    "name": "ipython",
    "version": 3
   },
   "file_extension": ".py",
   "mimetype": "text/x-python",
   "name": "python",
   "nbconvert_exporter": "python",
   "pygments_lexer": "ipython3",
   "version": "3.6.9"
  }
 },
 "nbformat": 4,
 "nbformat_minor": 4
}
