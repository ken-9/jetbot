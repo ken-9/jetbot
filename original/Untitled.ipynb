{
 "cells": [
  {
   "cell_type": "code",
   "execution_count": 1,
   "metadata": {},
   "outputs": [
    {
     "name": "stdout",
     "output_type": "stream",
     "text": [
      "object_detection() is working.\n",
      "\n",
      "road_following() is workking.\n",
      "\n",
      "excute() is finish.\n",
      "\n"
     ]
    }
   ],
   "source": [
    "# CUDAに対応したマルチプロセスのパッケージのimport\n",
    "import torch.multiprocessing as mp\n",
    "\n",
    "def road_following(num):\n",
    "    print('road_following() is workking.\\n')\n",
    "\n",
    "def object_detection(num):\n",
    "    print('object_detection() is working.\\n')\n",
    "\n",
    "\n",
    "# CHANGED: 「サブプロセスの生成方法の変更」部分を消す\n",
    "'''\n",
    "if mp.get_start_method() == 'fork':  # 生成方法がforkだったら\n",
    "    mp.set_start_method('spawn', force=True)  # spawnに変更\n",
    "    print(\"{} setup done\".format(mp.get_start_method()))  \n",
    "'''\n",
    "\n",
    "def execute():\n",
    "    # 各プロセスを生成\n",
    "    process_rf = mp.Process(\n",
    "                             target = road_following, \n",
    "                             args=(1,)\n",
    "                 )\n",
    "    process_od = mp.Process(\n",
    "                             target = object_detection, \n",
    "                             args=(1,)\n",
    "                 )\n",
    "\n",
    "    # 各プロセス実行開始\n",
    "    process_rf.start()\n",
    "    process_od.start()\n",
    "\n",
    "    # 各プロセス内の処理が終わるまで待つ\n",
    "    process_rf.join()\n",
    "    process_od.join()\n",
    "\n",
    "    print('excute() is finish.\\n')\n",
    "    \n",
    "execute()"
   ]
  },
  {
   "cell_type": "code",
   "execution_count": 15,
   "metadata": {},
   "outputs": [
    {
     "name": "stdout",
     "output_type": "stream",
     "text": [
      "test() in the test.py is working.\n"
     ]
    }
   ],
   "source": [
    "from my_module import test\n",
    "if __name__ == '__main__':\n",
    "    test.test()\n"
   ]
  },
  {
   "cell_type": "code",
   "execution_count": 9,
   "metadata": {},
   "outputs": [
    {
     "name": "stdout",
     "output_type": "stream",
     "text": [
      "['/usr/lib/python36.zip', '/usr/lib/python3.6', '/usr/lib/python3.6/lib-dynload', '', '/usr/local/lib/python3.6/dist-packages', '/usr/local/lib/python3.6/dist-packages/torchvision-0.4.0a0+d31eafa-py3.6-linux-aarch64.egg', '/usr/local/lib/python3.6/dist-packages/Adafruit_SSD1306-1.6.2-py3.6.egg', '/usr/local/lib/python3.6/dist-packages/Adafruit_MotorHAT-1.4.0-py3.6.egg', '/usr/local/lib/python3.6/dist-packages/Adafruit_GPIO-1.0.4-py3.6.egg', '/usr/local/lib/python3.6/dist-packages/spidev-3.4-py3.6-linux-aarch64.egg', '/usr/local/lib/python3.6/dist-packages/Adafruit_PureIO-1.0.4-py3.6.egg', '/usr/local/lib/python3.6/dist-packages/jetbot-0.4.0-py3.6.egg', '/usr/lib/python3/dist-packages', '/usr/lib/python3.6/dist-packages', '/usr/local/lib/python3.6/dist-packages/IPython/extensions', '/home/jetbot/.ipython', 'g031r066/original/my_module', '/home/jetbot/g031r066/original/my_module', '/home/jetbot/g031r066/original/my_module/']\n"
     ]
    }
   ],
   "source": [
    "import sys\n",
    "sys.path.append('/home/jetbot/g031r066/original/my_module/')\n",
    "print(sys.path)"
   ]
  },
  {
   "cell_type": "code",
   "execution_count": 1,
   "metadata": {},
   "outputs": [
    {
     "name": "stdout",
     "output_type": "stream",
     "text": [
      "['/usr/lib/python36.zip', '/usr/lib/python3.6', '/usr/lib/python3.6/lib-dynload', '', '/usr/local/lib/python3.6/dist-packages', '/usr/local/lib/python3.6/dist-packages/torchvision-0.4.0a0+d31eafa-py3.6-linux-aarch64.egg', '/usr/local/lib/python3.6/dist-packages/Adafruit_SSD1306-1.6.2-py3.6.egg', '/usr/local/lib/python3.6/dist-packages/Adafruit_MotorHAT-1.4.0-py3.6.egg', '/usr/local/lib/python3.6/dist-packages/Adafruit_GPIO-1.0.4-py3.6.egg', '/usr/local/lib/python3.6/dist-packages/spidev-3.4-py3.6-linux-aarch64.egg', '/usr/local/lib/python3.6/dist-packages/Adafruit_PureIO-1.0.4-py3.6.egg', '/usr/local/lib/python3.6/dist-packages/jetbot-0.4.0-py3.6.egg', '/usr/lib/python3/dist-packages', '/usr/lib/python3.6/dist-packages', '/usr/local/lib/python3.6/dist-packages/IPython/extensions', '/home/jetbot/.ipython']\n"
     ]
    }
   ],
   "source": [
    "import sys\n",
    "# sys.path.append('/home/jetbot/g031r066/original/my_module/')\n",
    "print(sys.path)"
   ]
  },
  {
   "cell_type": "code",
   "execution_count": null,
   "metadata": {},
   "outputs": [],
   "source": []
  }
 ],
 "metadata": {
  "kernelspec": {
   "display_name": "Python 3",
   "language": "python",
   "name": "python3"
  },
  "language_info": {
   "codemirror_mode": {
    "name": "ipython",
    "version": 3
   },
   "file_extension": ".py",
   "mimetype": "text/x-python",
   "name": "python",
   "nbconvert_exporter": "python",
   "pygments_lexer": "ipython3",
   "version": "3.6.9"
  }
 },
 "nbformat": 4,
 "nbformat_minor": 4
}
